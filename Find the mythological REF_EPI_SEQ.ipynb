{
 "cells": [
  {
   "cell_type": "code",
   "execution_count": 1,
   "id": "70085cce",
   "metadata": {},
   "outputs": [],
   "source": [
    "import pandas as pd"
   ]
  },
  {
   "cell_type": "code",
   "execution_count": 2,
   "id": "2927799e",
   "metadata": {},
   "outputs": [],
   "source": [
    "df = pd.read_excel('mmc4.xlsx')"
   ]
  },
  {
   "cell_type": "code",
   "execution_count": 3,
   "id": "9b5bb764",
   "metadata": {},
   "outputs": [],
   "source": [
    "import pyensembl \n",
    "genome = pyensembl.ensembl_grch38"
   ]
  },
  {
   "cell_type": "code",
   "execution_count": 4,
   "id": "00989f0c",
   "metadata": {},
   "outputs": [
    {
     "name": "stderr",
     "output_type": "stream",
     "text": [
      "INFO:pyensembl.sequence_data:Loaded sequence dictionary from /Users/iskander/Library/Caches/pyensembl/GRCh38/ensembl109/Homo_sapiens.GRCh38.pep.all.fa.gz.pickle\n"
     ]
    }
   ],
   "source": [
    "seqs = genome.protein_sequences.fasta_dictionary"
   ]
  },
  {
   "cell_type": "code",
   "execution_count": 5,
   "id": "cb2b2c6a",
   "metadata": {},
   "outputs": [],
   "source": [
    "pep_lengths = set(df.PEP_LEN)"
   ]
  },
  {
   "cell_type": "code",
   "execution_count": 6,
   "id": "2e0c26b4",
   "metadata": {},
   "outputs": [
    {
     "data": {
      "text/plain": [
       "{8, 9, 10, 11, 12, 13, 14}"
      ]
     },
     "execution_count": 6,
     "metadata": {},
     "output_type": "execute_result"
    }
   ],
   "source": [
    "pep_lengths"
   ]
  },
  {
   "cell_type": "code",
   "execution_count": 7,
   "id": "bf85883e",
   "metadata": {},
   "outputs": [
    {
     "name": "stderr",
     "output_type": "stream",
     "text": [
      "100%|███████████████████████████████████████████████████████████████████████████████████████████████████████████████████████████████████████████████████████████████████████| 121766/121766 [00:27<00:00, 4449.93it/s]\n",
      "100%|███████████████████████████████████████████████████████████████████████████████████████████████████████████████████████████████████████████████████████████████████████| 121766/121766 [00:30<00:00, 4026.01it/s]\n",
      "100%|███████████████████████████████████████████████████████████████████████████████████████████████████████████████████████████████████████████████████████████████████████| 121766/121766 [00:46<00:00, 2593.21it/s]\n",
      "100%|███████████████████████████████████████████████████████████████████████████████████████████████████████████████████████████████████████████████████████████████████████| 121766/121766 [00:55<00:00, 2196.36it/s]\n",
      "100%|███████████████████████████████████████████████████████████████████████████████████████████████████████████████████████████████████████████████████████████████████████| 121766/121766 [01:19<00:00, 1522.65it/s]\n",
      "100%|███████████████████████████████████████████████████████████████████████████████████████████████████████████████████████████████████████████████████████████████████████| 121766/121766 [01:44<00:00, 1164.05it/s]\n",
      "100%|████████████████████████████████████████████████████████████████████████████████████████████████████████████████████████████████████████████████████████████████████████| 121766/121766 [02:36<00:00, 779.09it/s]\n"
     ]
    }
   ],
   "source": [
    "from collections import defaultdict\n",
    "from tqdm import tqdm\n",
    "kmers_by_size = {}\n",
    "kmer_to_source = defaultdict(set)\n",
    "for k in pep_lengths:\n",
    "    curr_kmers = []\n",
    "    for protein_id, seq in tqdm(seqs.items()):\n",
    "        n = len(seq)\n",
    "        if n < k:\n",
    "            continue\n",
    "    \n",
    "        for i in range(n - k + 1):\n",
    "            kmer = seq[i:i+k]\n",
    "            curr_kmers.append(kmer)\n",
    "            kmer_to_source[kmer].add(protein_id)\n",
    "    kmers_by_size[k] = set(curr_kmers)"
   ]
  },
  {
   "cell_type": "code",
   "execution_count": 43,
   "id": "23ce9e89",
   "metadata": {},
   "outputs": [
    {
     "name": "stdout",
     "output_type": "stream",
     "text": [
      "MNV? RRHIEIRDK D Q Y RRHIEIRDQ\n"
     ]
    }
   ],
   "source": [
    "import numpy as np\n",
    "aas = [\"A\", \"C\", \"D\", \"E\", \"F\", \"G\", \"H\", \"I\", \"K\", \"L\", \"M\", \"N\", \"P\", \"Q\", \"R\", \"S\", \"T\", \"V\", \"W\", \"Y\"]\n",
    "assert len(aas) == 20\n",
    "ref_peptides_col = []\n",
    "for _, row in df.iterrows():\n",
    "    alt_peptide = row.ALT_EPI_SEQ\n",
    "    \n",
    "    pos = row.MUTATION_POSITION\n",
    "    ref_peptides = set()\n",
    "    if not np.isnan(pos):\n",
    "        pos = int(pos)\n",
    "        i = pos - 1\n",
    "        alt_aa = alt_peptide[i]\n",
    "        \n",
    "        for aa in aas:\n",
    "            if aa == alt_aa:\n",
    "                continue\n",
    "            peptide = alt_peptide[:i] + aa + alt_peptide[i + 1:]\n",
    "            if len(kmer_to_source[peptide]) > 0:\n",
    "                ref_peptides.add(peptide)\n",
    "        if len(ref_peptides) == 0:\n",
    "            for aa1 in aas:\n",
    "                for aa2 in aas:\n",
    "                    peptide = alt_peptide[:i] + aa1 + aa2 + alt_peptide[i + 2:]\n",
    "                    \n",
    "                    if peptide == alt_peptide:\n",
    "                        continue\n",
    "                    if len(kmer_to_source[peptide]) > 0:\n",
    "                        print(\"MNV?\", alt_peptide, aa1, aa2, aa3, peptide)\n",
    "                        ref_peptides.add(peptide)\n",
    "    ref_peptides = list(ref_peptides)\n",
    "    ref_peptides_col.append(\";\".join(ref_peptides))"
   ]
  },
  {
   "cell_type": "code",
   "execution_count": 44,
   "id": "51afb4d9",
   "metadata": {},
   "outputs": [],
   "source": [
    "df[\"ref_peptide_candidates\"] = ref_peptides_col"
   ]
  },
  {
   "cell_type": "code",
   "execution_count": 45,
   "id": "a16b924c",
   "metadata": {},
   "outputs": [
    {
     "data": {
      "text/plain": [
       "16"
      ]
     },
     "execution_count": 45,
     "metadata": {},
     "output_type": "execute_result"
    }
   ],
   "source": [
    "df.ref_peptide_candidates.str.contains(\";\").sum()"
   ]
  },
  {
   "cell_type": "code",
   "execution_count": 47,
   "id": "0a9da031",
   "metadata": {},
   "outputs": [
    {
     "data": {
      "text/plain": [
       "34"
      ]
     },
     "execution_count": 47,
     "metadata": {},
     "output_type": "execute_result"
    }
   ],
   "source": [
    "(df.ref_peptide_candidates.str.len() == 0).sum()"
   ]
  },
  {
   "cell_type": "code",
   "execution_count": 48,
   "id": "30b537b9",
   "metadata": {},
   "outputs": [],
   "source": [
    "df.to_csv(\"tesla4_with_inferred_ref_peptides.csv\")"
   ]
  },
  {
   "cell_type": "code",
   "execution_count": 49,
   "id": "80101dd6",
   "metadata": {},
   "outputs": [
    {
     "data": {
      "text/plain": [
       "608"
      ]
     },
     "execution_count": 49,
     "metadata": {},
     "output_type": "execute_result"
    }
   ],
   "source": [
    "len(df)"
   ]
  },
  {
   "cell_type": "code",
   "execution_count": 52,
   "id": "c667ad5f",
   "metadata": {},
   "outputs": [
    {
     "data": {
      "text/plain": [
       "558"
      ]
     },
     "execution_count": 52,
     "metadata": {},
     "output_type": "execute_result"
    }
   ],
   "source": [
    "len(df) - ((df.ref_peptide_candidates.str.len() == 0).sum() + df.ref_peptide_candidates.str.contains(\";\").sum())"
   ]
  },
  {
   "cell_type": "code",
   "execution_count": null,
   "id": "9ccc1b48",
   "metadata": {},
   "outputs": [],
   "source": []
  }
 ],
 "metadata": {
  "kernelspec": {
   "display_name": "Python 3 (ipykernel)",
   "language": "python",
   "name": "python3"
  },
  "language_info": {
   "codemirror_mode": {
    "name": "ipython",
    "version": 3
   },
   "file_extension": ".py",
   "mimetype": "text/x-python",
   "name": "python",
   "nbconvert_exporter": "python",
   "pygments_lexer": "ipython3",
   "version": "3.10.10"
  }
 },
 "nbformat": 4,
 "nbformat_minor": 5
}
